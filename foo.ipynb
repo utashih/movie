{
 "cells": [
  {
   "cell_type": "code",
   "execution_count": 1,
   "metadata": {},
   "outputs": [],
   "source": [
    "import pandas as pd\n",
    "import numpy as np\n",
    "import torch\n",
    "import json\n",
    "import ast\n",
    "import os.path as osp"
   ]
  },
  {
   "cell_type": "code",
   "execution_count": 254,
   "metadata": {},
   "outputs": [
    {
     "name": "stderr",
     "output_type": "stream",
     "text": [
      "/anaconda3/lib/python3.6/site-packages/IPython/core/interactiveshell.py:3018: DtypeWarning: Columns (10) have mixed types. Specify dtype option on import or set low_memory=False.\n",
      "  interactivity=interactivity, compiler=compiler, result=result)\n"
     ]
    }
   ],
   "source": [
    "PATH = 'the-movies-dataset'\n",
    "credits = pd.read_csv(osp.join(PATH, 'credits.csv'), dtype={'id': int})\n",
    "metadata = pd.read_csv(osp.join(PATH, 'movies_metadata.csv'), usecols=['budget', \n",
    "                'genres', 'id', 'popularity', 'release_date', 'revenue', 'vote_average', 'vote_count'])\n",
    "keywords = pd.read_csv(osp.join(PATH, 'keywords.csv'))"
   ]
  },
  {
   "cell_type": "code",
   "execution_count": 255,
   "metadata": {},
   "outputs": [],
   "source": [
    "metadata['id'] = pd.to_numeric(metadata['id'], errors='coerce',downcast=\"integer\")\n",
    "metadata['budget'] = pd.to_numeric(metadata['budget'], errors='coerce')\n",
    "metadata['revenue'] = pd.to_numeric(metadata['revenue'], errors='coerce')\n",
    "metadata['vote_average'] = pd.to_numeric(metadata['vote_average'], errors='coerce')\n",
    "metadata['vote_count'] = pd.to_numeric(metadata['vote_count'], errors='coerce')\n",
    "metadata['popularity'] = pd.to_numeric(metadata['popularity'], errors='coerce')"
   ]
  },
  {
   "cell_type": "code",
   "execution_count": 256,
   "metadata": {},
   "outputs": [],
   "source": [
    "df.dropna(subset=[\"id\"],inplace=True)"
   ]
  },
  {
   "cell_type": "code",
   "execution_count": 257,
   "metadata": {},
   "outputs": [],
   "source": [
    "metadata = metadata[metadata.revenue > 10000]"
   ]
  },
  {
   "cell_type": "code",
   "execution_count": 258,
   "metadata": {},
   "outputs": [],
   "source": [
    "df = metadata.set_index('id').join(credits.set_index('id'), on='id', how='inner')\n",
    "df = df.join(keywords.set_index('id'), on='id',how='left')"
   ]
  },
  {
   "cell_type": "code",
   "execution_count": 259,
   "metadata": {},
   "outputs": [],
   "source": [
    "df = df.reset_index()"
   ]
  },
  {
   "cell_type": "code",
   "execution_count": 260,
   "metadata": {},
   "outputs": [],
   "source": [
    "df.cast = df.cast.apply(ast.literal_eval)\n",
    "df.crew = df.crew.apply(ast.literal_eval)\n",
    "df.genres = df.genres.apply(ast.literal_eval)\n",
    "df.keywords = df.keywords.apply(ast.literal_eval)"
   ]
  },
  {
   "cell_type": "code",
   "execution_count": 261,
   "metadata": {},
   "outputs": [
    {
     "name": "stderr",
     "output_type": "stream",
     "text": [
      "/anaconda3/lib/python3.6/site-packages/ipykernel_launcher.py:1: SettingWithCopyWarning: \n",
      "A value is trying to be set on a copy of a slice from a DataFrame\n",
      "\n",
      "See the caveats in the documentation: http://pandas.pydata.org/pandas-docs/stable/indexing.html#indexing-view-versus-copy\n",
      "  \"\"\"Entry point for launching an IPython kernel.\n"
     ]
    }
   ],
   "source": [
    "df.budget[df.budget == 0] = df.budget[df.budget != 0].mean()"
   ]
  },
  {
   "cell_type": "code",
   "execution_count": 30,
   "metadata": {},
   "outputs": [],
   "source": [
    "def filter_director(crews):\n",
    "    # return [crew for crew in crews if crew['job'] == 'Director']\n",
    "    for crew in crews:\n",
    "        if crew['job'] == 'Director':\n",
    "            return crew\n",
    "def prepare_dataframe():\n",
    "    PATH = 'the-movies-dataset'\n",
    "    credits = pd.read_csv(osp.join(PATH, 'credits.csv'), dtype={'id': int}, na_values = '[]')\n",
    "    metadata = pd.read_csv(osp.join(PATH, 'movies_metadata.csv'), na_values = '[]',\n",
    "                           usecols=['budget', 'genres', 'id', 'popularity', 'production_companies',\n",
    "                                    'release_date', 'revenue', 'runtime', 'title', 'vote_average', 'vote_count'])\n",
    "    keywords = pd.read_csv(osp.join(PATH, 'keywords.csv'))\n",
    "    metadata['id'] = pd.to_numeric(metadata['id'], errors='coerce', downcast=\"integer\")\n",
    "    metadata['budget'] = pd.to_numeric(metadata['budget'], errors='coerce')\n",
    "    metadata['revenue'] = pd.to_numeric(metadata['revenue'], errors='coerce')\n",
    "    metadata['vote_average'] = pd.to_numeric(metadata['vote_average'], errors='coerce')\n",
    "    metadata['vote_count'] = pd.to_numeric(metadata['vote_count'], errors='coerce')\n",
    "    metadata['popularity'] = pd.to_numeric(metadata['popularity'], errors='coerce')\n",
    "    metadata['runtime'] = pd.to_numeric(metadata['runtime'], errors='coerce')\n",
    "    metadata.dropna(inplace=True)\n",
    "    metadata = metadata[metadata.revenue > 10000]\n",
    "    credits.dropna(inplace=True)\n",
    "\n",
    "    df = metadata.set_index('id').join(credits.set_index('id'), on='id', how='inner')\n",
    "    df = df.join(keywords.set_index('id'), on='id', how='left')\n",
    "    df.cast = df.cast.apply(ast.literal_eval)\n",
    "    df.crew = df.crew.apply(ast.literal_eval)\n",
    "    df.genres = df.genres.apply(ast.literal_eval)\n",
    "    df.keywords = df.keywords.apply(ast.literal_eval)\n",
    "    df.production_companies = df.production_companies.apply(ast.literal_eval)\n",
    "    df.budget[df.budget == 0] = df.budget[df.budget != 0].mean()\n",
    "    df['director'] = df.crew.apply(filter_director)\n",
    "    df.dropna(subset=['director'], inplace=True)\n",
    "    df = df.reset_index()\n",
    "\n",
    "    return df"
   ]
  },
  {
   "cell_type": "code",
   "execution_count": 31,
   "metadata": {},
   "outputs": [
    {
     "name": "stderr",
     "output_type": "stream",
     "text": [
      "/anaconda3/lib/python3.6/site-packages/ipykernel_launcher.py:31: SettingWithCopyWarning: \n",
      "A value is trying to be set on a copy of a slice from a DataFrame\n",
      "\n",
      "See the caveats in the documentation: http://pandas.pydata.org/pandas-docs/stable/indexing.html#indexing-view-versus-copy\n"
     ]
    }
   ],
   "source": [
    "df = prepare_dataframe()"
   ]
  },
  {
   "cell_type": "code",
   "execution_count": 33,
   "metadata": {},
   "outputs": [
    {
     "data": {
      "text/html": [
       "<div>\n",
       "<style scoped>\n",
       "    .dataframe tbody tr th:only-of-type {\n",
       "        vertical-align: middle;\n",
       "    }\n",
       "\n",
       "    .dataframe tbody tr th {\n",
       "        vertical-align: top;\n",
       "    }\n",
       "\n",
       "    .dataframe thead th {\n",
       "        text-align: right;\n",
       "    }\n",
       "</style>\n",
       "<table border=\"1\" class=\"dataframe\">\n",
       "  <thead>\n",
       "    <tr style=\"text-align: right;\">\n",
       "      <th></th>\n",
       "      <th>id</th>\n",
       "      <th>budget</th>\n",
       "      <th>genres</th>\n",
       "      <th>popularity</th>\n",
       "      <th>production_companies</th>\n",
       "      <th>release_date</th>\n",
       "      <th>revenue</th>\n",
       "      <th>runtime</th>\n",
       "      <th>title</th>\n",
       "      <th>vote_average</th>\n",
       "      <th>vote_count</th>\n",
       "      <th>cast</th>\n",
       "      <th>crew</th>\n",
       "      <th>keywords</th>\n",
       "      <th>director</th>\n",
       "    </tr>\n",
       "  </thead>\n",
       "  <tbody>\n",
       "  </tbody>\n",
       "</table>\n",
       "</div>"
      ],
      "text/plain": [
       "Empty DataFrame\n",
       "Columns: [id, budget, genres, popularity, production_companies, release_date, revenue, runtime, title, vote_average, vote_count, cast, crew, keywords, director]\n",
       "Index: []"
      ]
     },
     "execution_count": 33,
     "metadata": {},
     "output_type": "execute_result"
    }
   ],
   "source": [
    "df[df.cast.astype(str) == '[]']"
   ]
  },
  {
   "cell_type": "code",
   "execution_count": 276,
   "metadata": {},
   "outputs": [
    {
     "data": {
      "text/plain": [
       "21604277.457480315"
      ]
     },
     "execution_count": 276,
     "metadata": {},
     "output_type": "execute_result"
    }
   ],
   "source": [
    "PATH = 'the-movies-dataset'\n",
    "credits = pd.read_csv(osp.join(PATH, 'credits.csv'), dtype={'id': int})\n",
    "metadata = pd.read_csv(osp.join(PATH, 'movies_metadata.csv'),\n",
    "                       usecols=['budget', 'genres', 'id', 'popularity', 'production_companies',\n",
    "                                'release_date', 'revenue', 'runtime', 'title', 'vote_average', 'vote_count'])\n",
    "metadata['budget'] = pd.to_numeric(metadata['budget'], errors='coerce')\n",
    "metadata.budget[metadata.budget > 0].mean()"
   ]
  },
  {
   "cell_type": "code",
   "execution_count": null,
   "metadata": {},
   "outputs": [],
   "source": []
  }
 ],
 "metadata": {
  "kernelspec": {
   "display_name": "Python 3",
   "language": "python",
   "name": "python3"
  },
  "language_info": {
   "codemirror_mode": {
    "name": "ipython",
    "version": 3
   },
   "file_extension": ".py",
   "mimetype": "text/x-python",
   "name": "python",
   "nbconvert_exporter": "python",
   "pygments_lexer": "ipython3",
   "version": "3.6.6"
  }
 },
 "nbformat": 4,
 "nbformat_minor": 2
}
